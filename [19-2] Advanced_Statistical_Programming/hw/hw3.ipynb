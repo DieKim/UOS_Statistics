{
 "cells": [
  {
   "cell_type": "markdown",
   "metadata": {},
   "source": [
    "# Q6-7"
   ]
  },
  {
   "cell_type": "code",
   "execution_count": 1,
   "metadata": {},
   "outputs": [],
   "source": [
    "def is_power(a, b):\n",
    "    if b==0: # 0으로 나눈 경우 오류메시지 출력\n",
    "        print('Dividing by zero is not defined')\n",
    "        return None\n",
    "    else:\n",
    "        if a%b==0: # a가 b의 거듭제곱이면 True 반환\n",
    "            is_power(a/b, b)\n",
    "            return True\n",
    "        else: # a가 b의 거듭제곱이 아니면 False 반환\n",
    "            return False"
   ]
  },
  {
   "cell_type": "code",
   "execution_count": 2,
   "metadata": {},
   "outputs": [
    {
     "name": "stdout",
     "output_type": "stream",
     "text": [
      "Dividing by zero is not defined\n"
     ]
    }
   ],
   "source": [
    "is_power(25, 0)"
   ]
  },
  {
   "cell_type": "code",
   "execution_count": 3,
   "metadata": {},
   "outputs": [
    {
     "data": {
      "text/plain": [
       "True"
      ]
     },
     "execution_count": 3,
     "metadata": {},
     "output_type": "execute_result"
    }
   ],
   "source": [
    "is_power(125, 5)"
   ]
  },
  {
   "cell_type": "code",
   "execution_count": 4,
   "metadata": {},
   "outputs": [
    {
     "data": {
      "text/plain": [
       "False"
      ]
     },
     "execution_count": 4,
     "metadata": {},
     "output_type": "execute_result"
    }
   ],
   "source": [
    "is_power(5, 25)"
   ]
  },
  {
   "cell_type": "markdown",
   "metadata": {},
   "source": [
    "# Q6-8"
   ]
  },
  {
   "cell_type": "code",
   "execution_count": 5,
   "metadata": {},
   "outputs": [
    {
     "name": "stdout",
     "output_type": "stream",
     "text": [
      "3\n",
      "4\n",
      "6\n"
     ]
    }
   ],
   "source": [
    "def gcd(a, b):\n",
    "    if b==0: # 기저 사례\n",
    "        return a # gcd(a, 0) = a\n",
    "    else: \n",
    "        return gcd(b, a%b) # gcd(a,b) = gcd(b,r)\n",
    "\n",
    "print(gcd(3, 15))\n",
    "print(gcd(4, 0))\n",
    "print(gcd(138, 72))"
   ]
  },
  {
   "cell_type": "markdown",
   "metadata": {},
   "source": [
    "# Q7-3"
   ]
  },
  {
   "cell_type": "code",
   "execution_count": 8,
   "metadata": {},
   "outputs": [
    {
     "name": "stdout",
     "output_type": "stream",
     "text": [
      "a / mysqrt(a) / math.sqrt(a) / diff\n",
      "\n",
      "1 1.0000000015603232 1.0 1.5603232039751447e-09\n",
      "2 1.4142135623734675 1.4142135623730951 3.723688024592775e-13\n",
      "3 1.7320508524424976 1.7320508075688772 4.4873620375085466e-08\n",
      "4 2.0000000031206464 2.0 3.1206464079502894e-09\n",
      "5 2.23606797779333 2.23606797749979 2.935403031756323e-10\n",
      "6 2.449489742817483 2.449489742783178 3.430500328249764e-11\n",
      "7 2.645751311069323 2.6457513110645907 4.732214620162267e-12\n",
      "8 2.828427124746935 2.8284271247461903 7.44737604918555e-13\n",
      "9 3.0000000000001306 3.0 1.305622276959184e-13\n"
     ]
    }
   ],
   "source": [
    "def mysqrt(a): # 뉴턴법으로 제곱근을 구하는 함수\n",
    "    x = 100000\n",
    "    epsilon = 0.0000001\n",
    "    while True:\n",
    "        y = (x+a/x)/2\n",
    "        if abs(y-x) < epsilon:\n",
    "            break\n",
    "        x = y\n",
    "    return (x)\n",
    "\n",
    "def test_square_root(n):\n",
    "    import math\n",
    "    print('a / mysqrt(a) / math.sqrt(a) / diff\\n')\n",
    "    for i in range(1, n):\n",
    "        my_sqrt = mysqrt(i) # 뉴턴법으로 얻은 제곱근: 표 2번째\n",
    "        math_sqrt = math.sqrt(i) # 함수로 얻은 제곱근: 표 3번째\n",
    "        diff = abs(my_sqrt - math_sqrt) # 차이: 표 4번째\n",
    "        print(i, my_sqrt, math_sqrt, diff)\n",
    "        \n",
    "test_square_root(10)"
   ]
  },
  {
   "cell_type": "markdown",
   "metadata": {},
   "source": [
    "# Q7-4"
   ]
  },
  {
   "cell_type": "code",
   "execution_count": 7,
   "metadata": {},
   "outputs": [
    {
     "name": "stdout",
     "output_type": "stream",
     "text": [
      ">math.sqrt(5)\n",
      "2.23606797749979\n",
      ">1+2*3\n",
      "7\n",
      ">type(math.sqrt)\n",
      "<class 'builtin_function_or_method'>\n",
      ">done\n"
     ]
    }
   ],
   "source": [
    "def eval_loop():\n",
    "    import math\n",
    "    while True:\n",
    "        line = input('>')\n",
    "        if line == 'done':\n",
    "            break\n",
    "        print(eval(line))\n",
    "        \n",
    "eval_loop()"
   ]
  },
  {
   "cell_type": "code",
   "execution_count": null,
   "metadata": {},
   "outputs": [],
   "source": []
  }
 ],
 "metadata": {
  "kernelspec": {
   "display_name": "Python 3",
   "language": "python",
   "name": "python3"
  },
  "language_info": {
   "codemirror_mode": {
    "name": "ipython",
    "version": 3
   },
   "file_extension": ".py",
   "mimetype": "text/x-python",
   "name": "python",
   "nbconvert_exporter": "python",
   "pygments_lexer": "ipython3",
   "version": "3.7.3"
  }
 },
 "nbformat": 4,
 "nbformat_minor": 2
}
