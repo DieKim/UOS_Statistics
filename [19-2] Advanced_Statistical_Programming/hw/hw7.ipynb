{
 "cells": [
  {
   "cell_type": "markdown",
   "metadata": {},
   "source": [
    "# Q15.1"
   ]
  },
  {
   "cell_type": "code",
   "execution_count": 5,
   "metadata": {},
   "outputs": [
    {
     "data": {
      "text/plain": [
       "5.0"
      ]
     },
     "execution_count": 5,
     "metadata": {},
     "output_type": "execute_result"
    }
   ],
   "source": [
    "import math\n",
    "\n",
    "class Point(object):\n",
    "    '''point'''\n",
    "def distance_between_points(p1, p2):\n",
    "    dx = p1.x - p2.x\n",
    "    dy = p1.y - p2.y\n",
    "    distance = math.sqrt(dx**2+dy**2)\n",
    "    return distance\n",
    "\n",
    "p1 = Point()\n",
    "p2 = Point()\n",
    "p1.x = 3\n",
    "p1.y = 4\n",
    "p2.x = 0\n",
    "p2.y = 0\n",
    "\n",
    "distance_between_points(p1, p2)"
   ]
  },
  {
   "cell_type": "markdown",
   "metadata": {},
   "source": [
    "# Q15.2"
   ]
  },
  {
   "cell_type": "code",
   "execution_count": 6,
   "metadata": {},
   "outputs": [
    {
     "name": "stdout",
     "output_type": "stream",
     "text": [
      "100.0\n",
      "100.0\n"
     ]
    }
   ],
   "source": [
    "class Rectangle(object):\n",
    "    '''rectangle'''\n",
    "def move_rectangle(rect, dx, dy):\n",
    "    rect.corner.x = rect.corner.x + dx\n",
    "    rect.corner.y = rect.corner.y + dy\n",
    "    \n",
    "box = Rectangle()\n",
    "box.width = 100.\n",
    "box.height = 200.\n",
    "box.corner = Point()\n",
    "box.corner.x = 50.\n",
    "box.corner.y = 0.\n",
    "\n",
    "move_rectangle(box, 50, 100)\n",
    "print(box.corner.x)\n",
    "print(box.corner.y)"
   ]
  },
  {
   "cell_type": "markdown",
   "metadata": {},
   "source": [
    "# Q15.3"
   ]
  },
  {
   "cell_type": "code",
   "execution_count": 8,
   "metadata": {},
   "outputs": [
    {
     "data": {
      "text/plain": [
       "<__main__.Rectangle at 0x1d87c40cda0>"
      ]
     },
     "execution_count": 8,
     "metadata": {},
     "output_type": "execute_result"
    }
   ],
   "source": [
    "import copy\n",
    "\n",
    "def move_rectangle_copy(rect, dx, dy):\n",
    "    new = copy.deepcopy(rect)\n",
    "    move_rectangle(new, dx, dy)\n",
    "    return new\n",
    "\n",
    "box = Rectangle()\n",
    "box.width = 100.\n",
    "box.height = 200.\n",
    "box.corner = Point()\n",
    "box.corner.x = 50.\n",
    "box.corner.y = 50.\n",
    "\n",
    "move_rectangle_copy(box, 50, 100)"
   ]
  },
  {
   "cell_type": "markdown",
   "metadata": {},
   "source": [
    "# Q16.6"
   ]
  },
  {
   "cell_type": "code",
   "execution_count": 10,
   "metadata": {},
   "outputs": [],
   "source": [
    "class Time(object):\n",
    "    '''time'''\n",
    "def time_to_int(time):\n",
    "    minutes = time.hour*60 + time.minute\n",
    "    seconds = minutes*60 + time.second\n",
    "    return seconds\n",
    "\n",
    "def int_to_time(seconds):\n",
    "    time = Time()\n",
    "    minutes, time.second = divmod(seconds, 60)\n",
    "    time.hour, ime.minute = divmod(minutes, 60)\n",
    "    return time\n",
    "\n",
    "def mul_time(time, factor):\n",
    "    seconds = time_to_int(time)\n",
    "    seconds *= factor\n",
    "    seconds - int(seconds)\n",
    "    return int_to_time(seconds)\n",
    "\n",
    "def average_pace(time, distance):\n",
    "    return mul_time(time, 1/distance)"
   ]
  },
  {
   "cell_type": "markdown",
   "metadata": {},
   "source": [
    "# Q16.7(1)\n",
    "datetime 모듈을 써서 현재 날짜를 얻어서 요일을 인쇄하는 프로그램을 작성하세요."
   ]
  },
  {
   "cell_type": "code",
   "execution_count": 16,
   "metadata": {},
   "outputs": [
    {
     "data": {
      "text/plain": [
       "1"
      ]
     },
     "execution_count": 16,
     "metadata": {},
     "output_type": "execute_result"
    }
   ],
   "source": [
    "import sys\n",
    "import os\n",
    "import datetime\n",
    "\n",
    "FORMAT_STRING = \"Year: {}\\tMonth: {}\\tWeekDay: {}\"\n",
    "\n",
    "weekday_dict = {\n",
    "    1: 'Monday',\n",
    "    2: 'Tuesday',\n",
    "    3: 'Wednesday',\n",
    "    4: 'Thursday',\n",
    "    5: 'Friday',\n",
    "    6: 'Saturday',\n",
    "    7: 'Sunday'\n",
    "}\n",
    "\n",
    "def get_weekday():\n",
    "    today_date = datetime.date.today()\n",
    "    return today_date.isoweekday()\n",
    "    \n",
    "get_weekday() # Today is Wednesday "
   ]
  },
  {
   "cell_type": "markdown",
   "metadata": {},
   "source": [
    "# Q16.7(2)\n",
    "입력으로 생일을 받아서 사용자의 나이와 다음 생일까지 남은 일, 시 분, 초를 인쇄하는 프로그램을 작성하세요."
   ]
  },
  {
   "cell_type": "code",
   "execution_count": 18,
   "metadata": {},
   "outputs": [
    {
     "data": {
      "text/plain": [
       "262"
      ]
     },
     "execution_count": 18,
     "metadata": {},
     "output_type": "execute_result"
    }
   ],
   "source": [
    "from datetime import datetime\n",
    "\n",
    "class Date(object):\n",
    "    '''date'''\n",
    "def days_until_birthday(birthday):\n",
    "    today = datetime.today()\n",
    "    next_birthday = datetime(today.year, birthday.month, birthday.day)\n",
    "    if today > next_birthday:\n",
    "        next_birthday = datetime(today.year+1, birthday.month, birthday.day)\n",
    "        delta = next_birthday - today\n",
    "    return delta.days\n",
    "\n",
    "birthday = Date()\n",
    "birthday.day = 1\n",
    "birthday.month = 4\n",
    "birthday.year = 1999\n",
    "\n",
    "days_until_birthday(birthday)"
   ]
  },
  {
   "cell_type": "code",
   "execution_count": null,
   "metadata": {},
   "outputs": [],
   "source": []
  }
 ],
 "metadata": {
  "kernelspec": {
   "display_name": "Python 3",
   "language": "python",
   "name": "python3"
  },
  "language_info": {
   "codemirror_mode": {
    "name": "ipython",
    "version": 3
   },
   "file_extension": ".py",
   "mimetype": "text/x-python",
   "name": "python",
   "nbconvert_exporter": "python",
   "pygments_lexer": "ipython3",
   "version": "3.7.3"
  }
 },
 "nbformat": 4,
 "nbformat_minor": 2
}
