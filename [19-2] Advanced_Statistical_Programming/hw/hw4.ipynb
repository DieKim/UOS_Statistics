{
 "cells": [
  {
   "cell_type": "markdown",
   "metadata": {},
   "source": [
    "# Q8-4"
   ]
  },
  {
   "cell_type": "code",
   "execution_count": 2,
   "metadata": {},
   "outputs": [
    {
     "data": {
      "text/plain": [
       "3"
      ]
     },
     "execution_count": 2,
     "metadata": {},
     "output_type": "execute_result"
    }
   ],
   "source": [
    "def find(word, letter, index):\n",
    "    index = index -1\n",
    "    while index < len(word):\n",
    "        if word[index] == letter:\n",
    "            return index\n",
    "        index = index + 1\n",
    "    return -1\n",
    "\n",
    "name = 'DaheeKim'\n",
    "find(name, 'e', 2)"
   ]
  },
  {
   "cell_type": "markdown",
   "metadata": {},
   "source": [
    "# Q8-11"
   ]
  },
  {
   "cell_type": "markdown",
   "metadata": {},
   "source": [
    "* any_lowercase1(s): 첫 번째 문자가 소문자면 True, 아니면 False 반환. s안에 소문자가 있어도 시작을 소문자로 하지 않으면 False를 반환하므로 오답\n",
    "\n",
    "\n",
    "* any_lowercase2(s): 'c'.islowr()에 있는 'c'는 s안의 철자인 c를 말하는게 아님. 즉, s라는 문자열에 대한 결과가 아니라 'c'라는 문자 자체가 소문자인지를 묻는 것으로 무조건 true값만 내보내므로 오답\n",
    "\n",
    "\n",
    "* any_lowercase3(s): 문자열의 마지막 문자가 소문자인지 대문자인지 따라서 T/F 결정. flag=c.islower()은 for문이 반복되면서 T/F값이 계속 갱신됨. 마지막 return flag로 인해 마지막 철자에 따라서만 결정되므로 오답\n",
    "\n",
    "\n",
    "* any_lowercase4(s): 정답. for문이 반복되고 flag=flag or is.lower()에서 or로 인해 flag값이 갱신됨. 처음 flag값을 False라고 정한 후 순차적으로 대소문자 여부에 따라 flag 값이 변한다.\n",
    "\n",
    "\n",
    "* any_lowercase5(): if not문은 c.islower()가 True이면 False를 내보내지 않음. 즉, c.islower()가 False일 때 False 반환하는 것으로 모두 소문자일 때만 True를 내보냄. 대문자가 하나라도 있으면 False를 반환하므로 오답 "
   ]
  },
  {
   "cell_type": "markdown",
   "metadata": {},
   "source": [
    "# Q8-12"
   ]
  },
  {
   "cell_type": "code",
   "execution_count": 4,
   "metadata": {},
   "outputs": [
    {
     "data": {
      "text/plain": [
       "'jolly'"
      ]
     },
     "execution_count": 4,
     "metadata": {},
     "output_type": "execute_result"
    }
   ],
   "source": [
    "import string\n",
    "\n",
    "def rotate_letter(letter, n): # letter(글자 하나)를 회전시키는 함수\n",
    "    if letter.isupper():\n",
    "        start = ord('A')\n",
    "    elif letter.islower():\n",
    "        start = ord('a')\n",
    "    else:\n",
    "        return letter\n",
    "    a = ord(letter) - start\n",
    "    b = (a+n)%26 + start\n",
    "    return chr(b)\n",
    "\n",
    "def rotate_word(word, n): # word(단어)fmf ghlwjstlzlsms gkatn\n",
    "    res = ''\n",
    "    for letter in word:\n",
    "        res = res + rotate_letter(letter, n)\n",
    "    return res\n",
    "\n",
    "rotate_word('cheer', 7)"
   ]
  },
  {
   "cell_type": "code",
   "execution_count": null,
   "metadata": {},
   "outputs": [],
   "source": []
  }
 ],
 "metadata": {
  "kernelspec": {
   "display_name": "Python 3",
   "language": "python",
   "name": "python3"
  },
  "language_info": {
   "codemirror_mode": {
    "name": "ipython",
    "version": 3
   },
   "file_extension": ".py",
   "mimetype": "text/x-python",
   "name": "python",
   "nbconvert_exporter": "python",
   "pygments_lexer": "ipython3",
   "version": "3.7.3"
  }
 },
 "nbformat": 4,
 "nbformat_minor": 2
}
