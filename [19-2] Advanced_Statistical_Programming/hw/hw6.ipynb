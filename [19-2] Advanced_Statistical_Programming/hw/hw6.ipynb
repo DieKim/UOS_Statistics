{
 "cells": [
  {
   "cell_type": "markdown",
   "metadata": {},
   "source": [
    "# Q12.1"
   ]
  },
  {
   "cell_type": "code",
   "execution_count": 1,
   "metadata": {},
   "outputs": [
    {
     "data": {
      "text/plain": [
       "15"
      ]
     },
     "execution_count": 1,
     "metadata": {},
     "output_type": "execute_result"
    }
   ],
   "source": [
    "def sumall(*t):\n",
    "    tt = tuple(t)\n",
    "    return sum(tt)\n",
    "\n",
    "sumall(1,2,3,4,5)"
   ]
  },
  {
   "cell_type": "markdown",
   "metadata": {},
   "source": [
    "# Q12.2"
   ]
  },
  {
   "cell_type": "code",
   "execution_count": 4,
   "metadata": {},
   "outputs": [
    {
     "data": {
      "text/plain": [
       "['Graham', 'Terry', 'Terry', 'John', 'Eric']"
      ]
     },
     "execution_count": 4,
     "metadata": {},
     "output_type": "execute_result"
    }
   ],
   "source": [
    "import random\n",
    "\n",
    "def sort_by_length_random(words):\n",
    "    t = []\n",
    "    for word in words:\n",
    "        t.append((len(word), random.random(), word))\n",
    "    t.sort(reverse=True)\n",
    "    res = []\n",
    "    for length, _, word in t:\n",
    "        res.append(word)\n",
    "    return res\n",
    "    \n",
    "words = ['John', 'Eric', 'Graham', 'Terry', 'Terry']\n",
    "sort_by_length_random(words)"
   ]
  },
  {
   "cell_type": "markdown",
   "metadata": {},
   "source": [
    "# Q12.3"
   ]
  },
  {
   "cell_type": "code",
   "execution_count": 5,
   "metadata": {},
   "outputs": [
    {
     "data": {
      "text/plain": [
       "['a', 'f', 'e', 'd', 's', 'n', 'l', 'c']"
      ]
     },
     "execution_count": 5,
     "metadata": {},
     "output_type": "execute_result"
    }
   ],
   "source": [
    "def histogram(s):\n",
    "    d = dict()\n",
    "    for c in s:\n",
    "        d[c] = d.get(c,0) + 1\n",
    "    return d\n",
    "\n",
    "def most_frequent(s):\n",
    "    hist = histogram(s)\n",
    "    t = []\n",
    "    for x, freq in hist.items():\n",
    "        t.append((freq, x))\n",
    "    t.sort(reverse=True)\n",
    "    res = []\n",
    "    for freq, x in t:\n",
    "        res.append(x)\n",
    "    return res\n",
    "\n",
    "most_frequent('aaaaeefcdfnlsdf')"
   ]
  },
  {
   "cell_type": "markdown",
   "metadata": {},
   "source": [
    "# Q14.2"
   ]
  },
  {
   "cell_type": "code",
   "execution_count": null,
   "metadata": {},
   "outputs": [],
   "source": [
    "import sys\n",
    "\n",
    "def sed(pattern, replace, source, dest):\n",
    "    try:\n",
    "        fin = open(source, 'r')\n",
    "        fout = open(dest, 'w')\n",
    "        \n",
    "        for line in fin:\n",
    "            line = line.replace(pattern, replace)\n",
    "            fout.write(line)\n",
    "            \n",
    "        fin.close()\n",
    "        fout.close()\n",
    "    except:\n",
    "        print('Something went wrong.')\n",
    "        \n",
    "sed(\"Hello\", \"Hi\", 'C:/Users/USER/hw')"
   ]
  },
  {
   "cell_type": "markdown",
   "metadata": {},
   "source": [
    "# Q. 숫자를 하나 입력받아 절대값을 계산하는 함수를 작성하세오\n",
    "입력값이 숫자가 아닌 경우 except ValueError 문으로 화면에 경고문을 출력하세요"
   ]
  },
  {
   "cell_type": "code",
   "execution_count": 7,
   "metadata": {},
   "outputs": [
    {
     "name": "stdout",
     "output_type": "stream",
     "text": [
      "dahee\n",
      "ValueError\n"
     ]
    }
   ],
   "source": [
    "def absolute():\n",
    "    try:\n",
    "        a = input()\n",
    "        b = int(a)\n",
    "        if b>=0:\n",
    "            return b\n",
    "        else:\n",
    "            return -b\n",
    "    except ValueError:\n",
    "        print(\"ValueError\")\n",
    "        \n",
    "absolute()"
   ]
  },
  {
   "cell_type": "code",
   "execution_count": null,
   "metadata": {},
   "outputs": [],
   "source": []
  }
 ],
 "metadata": {
  "kernelspec": {
   "display_name": "Python 3",
   "language": "python",
   "name": "python3"
  },
  "language_info": {
   "codemirror_mode": {
    "name": "ipython",
    "version": 3
   },
   "file_extension": ".py",
   "mimetype": "text/x-python",
   "name": "python",
   "nbconvert_exporter": "python",
   "pygments_lexer": "ipython3",
   "version": "3.7.3"
  }
 },
 "nbformat": 4,
 "nbformat_minor": 2
}
