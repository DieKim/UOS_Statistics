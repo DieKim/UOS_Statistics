{
 "cells": [
  {
   "cell_type": "code",
   "execution_count": null,
   "metadata": {},
   "outputs": [],
   "source": [
    "## 그림판\n",
    "\n",
    "from tkinter import *"
   ]
  },
  {
   "cell_type": "code",
   "execution_count": null,
   "metadata": {},
   "outputs": [],
   "source": [
    "##### 변수 설정:\n",
    "canvas_height = 400\n",
    "canvas_width = 600\n",
    "canvas_colour = \"black\"\n",
    "\n",
    "p1_x=canvas_width/2\n",
    "p1_y=canvas_height\n",
    "p1_colour=\"green\"\n",
    "line_width=5\n",
    "line_length=5"
   ]
  },
  {
   "cell_type": "code",
   "execution_count": null,
   "metadata": {},
   "outputs": [],
   "source": [
    "##### Functions:\n",
    "\n",
    "# 사용자 콘트롤\n",
    "def p1_move_N(event):\n",
    "    global p1_y\n",
    "    canvas.create_line(p1_x, p1_y, p1_x, (p1_y-line_length), width=line_width, fill=p1_colour)\n",
    "    p1_y = p1_y - line_length\n",
    "\n",
    "def p1_move_S(event):\n",
    "    global p1_y\n",
    "    canvas.create_line(p1_x, p1_y, p1_x, p1_y+line_length, width=line_width, fill=p1_colour)\n",
    "    p1_y = p1_y + line_length\n",
    "\n",
    "def p1_move_E(event):\n",
    "    global p1_x\n",
    "    canvas.create_line(p1_x, p1_y, p1_x + line_length, p1_y, width=line_width, fill=p1_colour)\n",
    "    p1_x = p1_x + line_length\n",
    "\n",
    "def p1_move_W(event):\n",
    "    global p1_x\n",
    "    canvas.create_line(p1_x, p1_y, p1_x - line_length, p1_y, width=line_width, fill=p1_colour)\n",
    "    p1_x = p1_x - line_length\n",
    "\n",
    "def erase_all(event):\n",
    "    canvas.delete(ALL)"
   ]
  },
  {
   "cell_type": "code",
   "execution_count": null,
   "metadata": {},
   "outputs": [],
   "source": [
    "##### 메인:\n",
    "window = Tk()\n",
    "window.title(\"MyEtchaSketch\")\n",
    "canvas = Canvas(bg=canvas_colour, height=canvas_height, width=canvas_width, highlightthickness=0)\n",
    "canvas.pack()"
   ]
  },
  {
   "cell_type": "code",
   "execution_count": null,
   "metadata": {},
   "outputs": [],
   "source": [
    "# 키를 눌렀을 때 움직임\n",
    "window.bind(\"<Up>\", p1_move_N)\n",
    "window.bind(\"<Down>\", p1_move_S)\n",
    "window.bind(\"<Left>\", p1_move_W)\n",
    "window.bind(\"<Right>\", p1_move_E)\n",
    "window.bind(\"u\", erase_all)\n",
    "\n",
    "window.mainloop()"
   ]
  },
  {
   "cell_type": "code",
   "execution_count": null,
   "metadata": {},
   "outputs": [],
   "source": [
    "## 계산기\n",
    "## version 1\n",
    "\n",
    "# myCalculator_expt1.py\n",
    "\n",
    "from tkinter import *\n",
    "from decimal import *"
   ]
  },
  {
   "cell_type": "code",
   "execution_count": null,
   "metadata": {},
   "outputs": [],
   "source": [
    "##### 메인:\n",
    "window = Tk()\n",
    "window.title(\"MyCalculator\")"
   ]
  },
  {
   "cell_type": "code",
   "execution_count": null,
   "metadata": {},
   "outputs": [],
   "source": [
    "# 내용 수정이 가능한 엔트리 위젯을 사용해 결과 디스플레이 사용\n",
    "display = Entry(window, width=45, bg=\"light green\")\n",
    "display.grid()"
   ]
  },
  {
   "cell_type": "code",
   "execution_count": null,
   "metadata": {},
   "outputs": [],
   "source": [
    "# 숫자 버튼 생성:\n",
    "def click1():\n",
    "    display.insert(END, \"1\")\n",
    "    \n",
    "Button(window, text=\"1\", width=5, command=click1).grid(row=1,column=0)"
   ]
  },
  {
   "cell_type": "code",
   "execution_count": null,
   "metadata": {},
   "outputs": [],
   "source": [
    "##### 메인 반복문 실행\n",
    "window.mainloop()"
   ]
  },
  {
   "cell_type": "code",
   "execution_count": null,
   "metadata": {},
   "outputs": [],
   "source": []
  },
  {
   "cell_type": "code",
   "execution_count": null,
   "metadata": {},
   "outputs": [],
   "source": [
    "## version 2\n",
    "from tkinter import *\n",
    "from decimal import *"
   ]
  },
  {
   "cell_type": "code",
   "execution_count": null,
   "metadata": {},
   "outputs": [],
   "source": [
    "# 키 입력 함수:\n",
    "def click(key):\n",
    "    display.insert(END, key)"
   ]
  },
  {
   "cell_type": "code",
   "execution_count": null,
   "metadata": {},
   "outputs": [],
   "source": [
    "##### 메인:\n",
    "window = Tk()\n",
    "window.title(\"MyCalculator\")"
   ]
  },
  {
   "cell_type": "code",
   "execution_count": null,
   "metadata": {},
   "outputs": [],
   "source": [
    "# top_row 프레임 생성\n",
    "top_row = Frame(window)\n",
    "top_row.grid(row=0, column=0, columnspan=2, sticky=N)"
   ]
  },
  {
   "cell_type": "code",
   "execution_count": null,
   "metadata": {},
   "outputs": [],
   "source": [
    "# 수정 가능한 엔트리 위젯\n",
    "display = Entry(top_row, width=45, bg=\"light green\")\n",
    "display.grid()"
   ]
  },
  {
   "cell_type": "code",
   "execution_count": null,
   "metadata": {},
   "outputs": [],
   "source": [
    "# 숫자 버튼 프레임 생성\n",
    "num_pad = Frame(window)\n",
    "num_pad.grid(row=1, column=0, sticky=W)"
   ]
  },
  {
   "cell_type": "code",
   "execution_count": null,
   "metadata": {},
   "outputs": [],
   "source": [
    "# 숫자 버튼에 제공될 숫자:\n",
    "num_pad_list = [\n",
    "'7',  '8',  '9',\n",
    "'4',  '5',  '6',\n",
    "'1',  '2',  '3',\n",
    "'0',  '.',  '=' ]"
   ]
  },
  {
   "cell_type": "code",
   "execution_count": null,
   "metadata": {},
   "outputs": [],
   "source": [
    "# 반복문으로 숫자 버튼 생성\n",
    "r = 0 # 행 카운터\n",
    "c = 0 # 열 카운터\n",
    "    \n",
    "for btn_text in num_pad_list:\n",
    "    Button(num_pad, text=btn_text, width=5, command=click).grid(row=r,column=c)\n",
    "    c = c+1\n",
    "    if c > 2:\n",
    "        c = 0\n",
    "        r = r+1"
   ]
  },
  {
   "cell_type": "code",
   "execution_count": null,
   "metadata": {},
   "outputs": [],
   "source": [
    "##### 메인 반복문 실행\n",
    "window.mainloop()"
   ]
  },
  {
   "cell_type": "code",
   "execution_count": null,
   "metadata": {},
   "outputs": [],
   "source": []
  },
  {
   "cell_type": "code",
   "execution_count": null,
   "metadata": {},
   "outputs": [],
   "source": [
    "## version 3\n",
    "from tkinter import *\n",
    "from decimal import *"
   ]
  },
  {
   "cell_type": "code",
   "execution_count": null,
   "metadata": {},
   "outputs": [],
   "source": [
    "# 키 입력 함수:\n",
    "def click(key):\n",
    "    display.insert(END, key)"
   ]
  },
  {
   "cell_type": "code",
   "execution_count": null,
   "metadata": {},
   "outputs": [],
   "source": [
    "##### 메인:\n",
    "window = Tk()\n",
    "window.title(\"MyCalculator\")"
   ]
  },
  {
   "cell_type": "code",
   "execution_count": null,
   "metadata": {},
   "outputs": [],
   "source": [
    "# top_row 프레임 생성\n",
    "top_row = Frame(window)\n",
    "top_row.grid(row=0, column=0, columnspan=2, sticky=N)"
   ]
  },
  {
   "cell_type": "code",
   "execution_count": null,
   "metadata": {},
   "outputs": [],
   "source": [
    "# 수정 가능한 엔트리 위젯\n",
    "display = Entry(top_row, width=45, bg=\"light green\")\n",
    "display.grid()"
   ]
  },
  {
   "cell_type": "code",
   "execution_count": null,
   "metadata": {},
   "outputs": [],
   "source": [
    "# 숫자 버튼 프레임 생성\n",
    "num_pad = Frame(window)\n",
    "num_pad.grid(row=1, column=0, sticky=W)"
   ]
  },
  {
   "cell_type": "code",
   "execution_count": null,
   "metadata": {},
   "outputs": [],
   "source": [
    "num_pad_list = [\n",
    "'7',  '8',  '9',\n",
    "'4',  '5',  '6',\n",
    "'1',  '2',  '3',\n",
    "'0',  '.',  '=' ]\n"
   ]
  },
  {
   "cell_type": "code",
   "execution_count": null,
   "metadata": {},
   "outputs": [],
   "source": [
    "# 반복문으로 숫자 버튼 생성\n",
    "r = 0\n",
    "c = 0\n",
    "for btn_text in num_pad_list:\n",
    "    # 이 부분은 나중에 해결할 것입니다:\n",
    "    Button(num_pad, text=btn_text, width=5, command=click).grid(row=r,column=c)\n",
    "    c = c+1\n",
    "    if c > 2:\n",
    "        c = 0\n",
    "        r = r+1"
   ]
  },
  {
   "cell_type": "code",
   "execution_count": null,
   "metadata": {},
   "outputs": [],
   "source": [
    "# 연산자 프레임 생성\n",
    "operator = Frame(window)\n",
    "operator.grid(row=1, column=1, sticky=E)\n",
    "\n",
    "operator_list = [\n",
    "'*', '/',  \n",
    "'+', '-',\n",
    "'(', ')',\n",
    "'C' ]"
   ]
  },
  {
   "cell_type": "code",
   "execution_count": null,
   "metadata": {},
   "outputs": [],
   "source": [
    "# 반복문으로 연산자 버튼 생성\n",
    "r = 0\n",
    "c = 0\n",
    "for btn_text in operator_list:\n",
    "    Button(operator, text=btn_text, width=5, command=click).grid(row=r,column=c)\n",
    "    c = c+1\n",
    "    if c > 1:\n",
    "        c = 0\n",
    "        r = r+1"
   ]
  },
  {
   "cell_type": "code",
   "execution_count": null,
   "metadata": {},
   "outputs": [],
   "source": [
    "##### 메인 반복문 실행\n",
    "window.mainloop()"
   ]
  },
  {
   "cell_type": "code",
   "execution_count": null,
   "metadata": {},
   "outputs": [],
   "source": []
  },
  {
   "cell_type": "code",
   "execution_count": null,
   "metadata": {},
   "outputs": [],
   "source": [
    "## 작동하는 version 1\n",
    "from tkinter import *"
   ]
  },
  {
   "cell_type": "code",
   "execution_count": null,
   "metadata": {},
   "outputs": [],
   "source": [
    "# 키 입력 함수:\n",
    "def click(key):\n",
    "    display.insert(END, key)"
   ]
  },
  {
   "cell_type": "code",
   "execution_count": null,
   "metadata": {},
   "outputs": [],
   "source": [
    "##### 메인:\n",
    "window = Tk()\n",
    "window.title(\"MyCalculator\")\n"
   ]
  },
  {
   "cell_type": "code",
   "execution_count": null,
   "metadata": {},
   "outputs": [],
   "source": [
    "# top_row 프레임 생성\n",
    "top_row = Frame(window)\n",
    "top_row.grid(row=0, column=0, columnspan=2, sticky=N)"
   ]
  },
  {
   "cell_type": "code",
   "execution_count": null,
   "metadata": {},
   "outputs": [],
   "source": [
    "# 수정 가능한 엔트리 위젯\n",
    "display = Entry(top_row, width=45, bg=\"light green\")\n",
    "display.grid()"
   ]
  },
  {
   "cell_type": "code",
   "execution_count": null,
   "metadata": {},
   "outputs": [],
   "source": [
    "# 숫자 버튼 프레임 생성\n",
    "num_pad = Frame(window)\n",
    "num_pad.grid(row=1, column=0, sticky=W)\n"
   ]
  },
  {
   "cell_type": "code",
   "execution_count": null,
   "metadata": {},
   "outputs": [],
   "source": [
    "num_pad_list = [\n",
    "'7',  '8',  '9',\n",
    "'4',  '5',  '6',\n",
    "'1',  '2',  '3',\n",
    "'0',  '.',  '=' ]\n"
   ]
  },
  {
   "cell_type": "code",
   "execution_count": null,
   "metadata": {},
   "outputs": [],
   "source": [
    "# 반복문으로 숫자 버튼 생성\n",
    "r = 0\n",
    "c = 0\n",
    "for btn_text in num_pad_list:\n",
    "    def cmd(x=btn_text):\n",
    "        click(x)\n",
    "    Button(num_pad, text=btn_text, width=5, command=cmd).grid(row=r,column=c)\n",
    "    c = c+1\n",
    "    if c > 2:\n",
    "        c = 0\n",
    "        r = r+1\n"
   ]
  },
  {
   "cell_type": "code",
   "execution_count": null,
   "metadata": {},
   "outputs": [],
   "source": [
    "# 연산자 프레임 생성\n",
    "operator = Frame(window)\n",
    "operator.grid(row=1, column=1, sticky=E)\n",
    "\n",
    "operator_list = [\n",
    "'*', '/',  \n",
    "'+', '-',\n",
    "'(', ')',\n",
    "'C' ]"
   ]
  },
  {
   "cell_type": "code",
   "execution_count": null,
   "metadata": {},
   "outputs": [],
   "source": [
    "# 반복문으로 연산자 버튼 생성\n",
    "r = 0\n",
    "c = 0\n",
    "for btn_text in operator_list:\n",
    "    Button(operator, text=btn_text, width=5, command=click).grid(row=r,column=c)\n",
    "    c = c+1\n",
    "    if c > 1:\n",
    "        c = 0\n",
    "        r = r+1"
   ]
  },
  {
   "cell_type": "code",
   "execution_count": null,
   "metadata": {},
   "outputs": [],
   "source": [
    "##### 메인 반복문 실행\n",
    "window.mainloop()"
   ]
  },
  {
   "cell_type": "code",
   "execution_count": null,
   "metadata": {},
   "outputs": [],
   "source": []
  },
  {
   "cell_type": "code",
   "execution_count": null,
   "metadata": {},
   "outputs": [],
   "source": [
    "## 작동하는 version 2\n",
    "from tkinter import *"
   ]
  },
  {
   "cell_type": "code",
   "execution_count": null,
   "metadata": {},
   "outputs": [],
   "source": [
    "# 키 입력 함수:\n",
    "def click(key):\n",
    "    # = 버튼이 눌렸을 때 계산 수행:\n",
    "    if key == '=':\n",
    "        try:\n",
    "            result = str(eval(display.get()))[0:10]\n",
    "            display.insert(END, \" = \" + result)\n",
    "        except:\n",
    "            display.insert(END, \" --> Error!\")\n",
    "\n",
    "    # C 버튼이 눌려졌을 때 display 엔트리 위젯 내용 비움:           \n",
    "    elif key == \"C\":\n",
    "        display.delete(0, END)\n",
    "\n",
    "    # 그 외 다른 키를 눌렀을 때 실행될 기본 동작:\n",
    "    else:\n",
    "        display.insert(END, key)"
   ]
  },
  {
   "cell_type": "code",
   "execution_count": null,
   "metadata": {},
   "outputs": [],
   "source": [
    "##### 메인:\n",
    "window = Tk()\n",
    "window.title(\"MyCalculator\")\n"
   ]
  },
  {
   "cell_type": "code",
   "execution_count": null,
   "metadata": {},
   "outputs": [],
   "source": [
    "# top_row 프레임 생성\n",
    "top_row = Frame(window)\n",
    "top_row.grid(row=0, column=0, columnspan=2, sticky=N)\n"
   ]
  },
  {
   "cell_type": "code",
   "execution_count": null,
   "metadata": {},
   "outputs": [],
   "source": [
    "# 수정 가능한 엔트리 위젯\n",
    "display = Entry(top_row, width=45, bg=\"light green\")\n",
    "display.grid()"
   ]
  },
  {
   "cell_type": "code",
   "execution_count": null,
   "metadata": {},
   "outputs": [],
   "source": [
    "# 숫자 버튼 프레임 생성\n",
    "num_pad = Frame(window)\n",
    "num_pad.grid(row=1, column=0, sticky=W)"
   ]
  },
  {
   "cell_type": "code",
   "execution_count": null,
   "metadata": {},
   "outputs": [],
   "source": [
    "num_pad_list = [\n",
    "'7',  '8',  '9',\n",
    "'4',  '5',  '6',\n",
    "'1',  '2',  '3',\n",
    "'0',  '.',  '=' ]"
   ]
  },
  {
   "cell_type": "code",
   "execution_count": null,
   "metadata": {},
   "outputs": [],
   "source": [
    "# 반복문으로 숫자 버튼 생성\n",
    "r = 0\n",
    "c = 0\n",
    "for btn_text in num_pad_list:\n",
    "    def cmd(x=btn_text):\n",
    "        click(x)\n",
    "    Button(num_pad, text=btn_text, width=5, command=cmd).grid(row=r,column=c)\n",
    "    c = c+1\n",
    "    if c > 2:\n",
    "        c = 0\n",
    "        r = r+1"
   ]
  },
  {
   "cell_type": "code",
   "execution_count": null,
   "metadata": {},
   "outputs": [],
   "source": [
    "# 연산자 프레임 생성\n",
    "operator = Frame(window)\n",
    "operator.grid(row=1, column=1, sticky=E)\n",
    "\n",
    "operator_list = [\n",
    "'*', '/',  \n",
    "'+', '-',\n",
    "'(', ')',\n",
    "'C' ]"
   ]
  },
  {
   "cell_type": "code",
   "execution_count": null,
   "metadata": {},
   "outputs": [],
   "source": [
    "# 반복문으로 연산자 버튼 생성\n",
    "r = 0\n",
    "c = 0\n",
    "for btn_text in operator_list:\n",
    "    def cmd(x=btn_text):\n",
    "        click(x)\n",
    "    Button(operator, text=btn_text, width=5, command=cmd).grid(row=r,column=c)\n",
    "    c = c+1\n",
    "    if c > 1:\n",
    "        c = 0\n",
    "        r = r+1"
   ]
  },
  {
   "cell_type": "code",
   "execution_count": null,
   "metadata": {},
   "outputs": [],
   "source": [
    "##### 메인 반복문 실행\n",
    "window.mainloop()"
   ]
  },
  {
   "cell_type": "code",
   "execution_count": null,
   "metadata": {},
   "outputs": [],
   "source": []
  },
  {
   "cell_type": "code",
   "execution_count": null,
   "metadata": {},
   "outputs": [],
   "source": [
    "## 좀더 복잡한 계산기\n",
    "from tkinter import *"
   ]
  },
  {
   "cell_type": "code",
   "execution_count": null,
   "metadata": {},
   "outputs": [],
   "source": [
    "# 팩토리얼 함수:\n",
    "def factorial(n):\n",
    "    return \"factorial (!)\""
   ]
  },
  {
   "cell_type": "code",
   "execution_count": null,
   "metadata": {},
   "outputs": [],
   "source": [
    "# 10진수를 2진수로 변환하는 함수:\n",
    "def to_binary(n):\n",
    "    return \"-> binary\""
   ]
  },
  {
   "cell_type": "code",
   "execution_count": null,
   "metadata": {},
   "outputs": [],
   "source": [
    "# 2진수를 10진수로 변환하는 함수:\n",
    "def from_binary(n):\n",
    "    return \"binary -> 10\""
   ]
  },
  {
   "cell_type": "code",
   "execution_count": null,
   "metadata": {},
   "outputs": [],
   "source": [
    "# 키 입력 함수:\n",
    "def click(key):\n",
    "    # = 버튼이 눌렸을 때 계산 수행:\n",
    "    if key == \"=\":\n",
    "        try:\n",
    "            result = str(eval(display.get()))[0:10]\n",
    "            display.insert(END, \" = \" + result)\n",
    "        except:\n",
    "            display.insert(END, \" --> Error!\")\n",
    "\n",
    "    # C 버튼이 눌려졌을 때 display 엔트리 위젯 내용 비움:           \n",
    "    elif key == \"C\":\n",
    "        display.delete(0, END)\n",
    "\n",
    "    # 상수 버튼에 대한 작업:\n",
    "    elif key == constants_list[0]:\n",
    "        display.insert(END, \"3.141592654\")\n",
    "\n",
    "    # 함수 버튼에 대한 작업:\n",
    "    elif key == functions_list[0]:\n",
    "        n = display.get()  # 현재 display 엔트리 위젯 값 수집\n",
    "        display.delete(0, END)  # 현재 display 엔트리 위젯 내용 비움\n",
    "        display.insert(END, factorial(n))\n",
    "\n",
    "    elif key == functions_list[2]:\n",
    "        n = display.get()  # 현재 display 엔트리 위젯 값 수집\n",
    "        display.delete(0, END)  # display 엔트리 위젯 내용 비움\n",
    "        display.insert(END, to_binary(n))\n",
    "        \n",
    "    elif key == functions_list[3]:\n",
    "        n = display.get()  # 현재 display 엔트리 위젯 값 수집\n",
    "        display.delete(0, END)  # display 엔트리 위젯 내용 비움\n",
    "        display.insert(END, from_binary(n))\n",
    "\n",
    "    # 그 외 다른 키를 눌렀을 때 실행될 기본 동작:\n",
    "    else:\n",
    "        display.insert(END, key)"
   ]
  },
  {
   "cell_type": "code",
   "execution_count": null,
   "metadata": {},
   "outputs": [],
   "source": [
    "##### 메인:\n",
    "window = Tk()\n",
    "window.title(\"MyCalculator\")"
   ]
  },
  {
   "cell_type": "code",
   "execution_count": null,
   "metadata": {},
   "outputs": [],
   "source": [
    "# top_row 프레임 생성\n",
    "top_row = Frame(window)\n",
    "top_row.grid(row=0, column=0, columnspan=2, sticky=N)"
   ]
  },
  {
   "cell_type": "code",
   "execution_count": null,
   "metadata": {},
   "outputs": [],
   "source": [
    "# 수정 가능한 엔트리 위젯\n",
    "display = Entry(top_row, width=45, bg=\"light green\")\n",
    "display.grid()"
   ]
  },
  {
   "cell_type": "code",
   "execution_count": null,
   "metadata": {},
   "outputs": [],
   "source": [
    "# 숫자 버튼 프레임 생성\n",
    "num_pad = Frame(window)\n",
    "num_pad.grid(row=1, column=0, sticky=W)"
   ]
  },
  {
   "cell_type": "code",
   "execution_count": null,
   "metadata": {},
   "outputs": [],
   "source": [
    "num_pad_list = [\n",
    "'7',  '8',  '9',\n",
    "'4',  '5',  '6',\n",
    "'1',  '2',  '3',\n",
    "'0',  '.',  '=' ]"
   ]
  },
  {
   "cell_type": "code",
   "execution_count": null,
   "metadata": {},
   "outputs": [],
   "source": [
    "# 반복문으로 숫자 버튼 생성\n",
    "r = 0\n",
    "c = 0\n",
    "for btn_text in num_pad_list:\n",
    "    def cmd(x=btn_text):\n",
    "        click(x)\n",
    "    Button(num_pad, text=btn_text, width=5, command=cmd).grid(row=r,column=c)\n",
    "    c = c+1\n",
    "    if c > 2:\n",
    "        c = 0\n",
    "        r = r+1"
   ]
  },
  {
   "cell_type": "code",
   "execution_count": null,
   "metadata": {},
   "outputs": [],
   "source": [
    "# 연산자 프레임 생성\n",
    "operator = Frame(window)\n",
    "operator.grid(row=1, column=1, sticky=E)\n",
    "\n",
    "operator_list = [\n",
    "'*', '/',  \n",
    "'+', '-',\n",
    "'(', ')',\n",
    "'C' ]"
   ]
  },
  {
   "cell_type": "code",
   "execution_count": null,
   "metadata": {},
   "outputs": [],
   "source": [
    "# 반복문으로 연산자 버튼 생성\n",
    "r = 0\n",
    "c = 0\n",
    "for btn_text in operator_list:\n",
    "    def cmd(x=btn_text):\n",
    "        click(x)\n",
    "    Button(operator, text=btn_text, width=5, command=cmd).grid(row=r,column=c)\n",
    "    c = c+1\n",
    "    if c > 1:\n",
    "        c = 0\n",
    "        r = r+1"
   ]
  },
  {
   "cell_type": "code",
   "execution_count": null,
   "metadata": {},
   "outputs": [],
   "source": [
    "# 상수 프레임 생성\n",
    "constants = Frame(window)\n",
    "constants.grid(row=3, column=0, sticky=W)\n",
    "constants_list = ['pi']"
   ]
  },
  {
   "cell_type": "code",
   "execution_count": null,
   "metadata": {},
   "outputs": [],
   "source": [
    "# 반복문으로 상수 버튼 생성\n",
    "r = 0\n",
    "c = 0\n",
    "for btn_text in constants_list:\n",
    "    def cmd(x=btn_text):\n",
    "        click(x)\n",
    "    Button(constants, text=btn_text, width=22, command=cmd).grid(row=r,column=c)\n",
    "    r = r+1"
   ]
  },
  {
   "cell_type": "code",
   "execution_count": null,
   "metadata": {},
   "outputs": [],
   "source": [
    "# 함수 프레임 생성\n",
    "functions = Frame(window)\n",
    "functions.grid(row=3, column=1, sticky=E)\n",
    "\n",
    "functions_list = [\n",
    "'factorial (!)',   \n",
    "'10-> binary',  \n",
    "'binary -> 10' ]"
   ]
  },
  {
   "cell_type": "code",
   "execution_count": null,
   "metadata": {},
   "outputs": [],
   "source": [
    "# 반복문으로 함수 버튼 생성\n",
    "r = 0\n",
    "c = 0\n",
    "for btn_text in functions_list:\n",
    "    def cmd(x=btn_text):\n",
    "        click(x)\n",
    "    Button(functions, text=btn_text, width=13, command=cmd).grid(row=r, column=c)\n",
    "    r = r+1"
   ]
  },
  {
   "cell_type": "code",
   "execution_count": null,
   "metadata": {},
   "outputs": [],
   "source": [
    "##### 메인 반복문 실행\n",
    "window.mainloop()"
   ]
  },
  {
   "cell_type": "code",
   "execution_count": null,
   "metadata": {},
   "outputs": [],
   "source": []
  }
 ],
 "metadata": {
  "kernelspec": {
   "display_name": "Python 3",
   "language": "python",
   "name": "python3"
  },
  "language_info": {
   "codemirror_mode": {
    "name": "ipython",
    "version": 3
   },
   "file_extension": ".py",
   "mimetype": "text/x-python",
   "name": "python",
   "nbconvert_exporter": "python",
   "pygments_lexer": "ipython3",
   "version": "3.6.2"
  }
 },
 "nbformat": 4,
 "nbformat_minor": 2
}
