{
 "cells": [
  {
   "cell_type": "code",
   "execution_count": null,
   "metadata": {},
   "outputs": [],
   "source": [
    "# Summary/DImensions/Structure\n",
    "import pandas as pd\n",
    "data = pd.read_csv('d:/ext5handling/titanic3.csv')"
   ]
  },
  {
   "cell_type": "code",
   "execution_count": null,
   "metadata": {},
   "outputs": [],
   "source": [
    "data.head()"
   ]
  },
  {
   "cell_type": "code",
   "execution_count": null,
   "metadata": {},
   "outputs": [],
   "source": [
    "data.shape"
   ]
  },
  {
   "cell_type": "code",
   "execution_count": null,
   "metadata": {},
   "outputs": [],
   "source": [
    "data.columns.values"
   ]
  },
  {
   "cell_type": "code",
   "execution_count": null,
   "metadata": {},
   "outputs": [],
   "source": [
    "data.describe()"
   ]
  },
  {
   "cell_type": "code",
   "execution_count": null,
   "metadata": {},
   "outputs": [],
   "source": [
    "data.dtypes"
   ]
  },
  {
   "cell_type": "code",
   "execution_count": null,
   "metadata": {},
   "outputs": [],
   "source": [
    "# Handling missing Values\n",
    "pd.isnull(data['body'])"
   ]
  },
  {
   "cell_type": "code",
   "execution_count": null,
   "metadata": {},
   "outputs": [],
   "source": [
    "pd.notnull(data['body'])"
   ]
  },
  {
   "cell_type": "code",
   "execution_count": null,
   "metadata": {},
   "outputs": [],
   "source": [
    "pd.isnull(data['body']).values.ravel().sum()"
   ]
  },
  {
   "cell_type": "code",
   "execution_count": null,
   "metadata": {},
   "outputs": [],
   "source": [
    "pd.notnull(data['body']).values.ravel().sum()"
   ]
  },
  {
   "cell_type": "code",
   "execution_count": null,
   "metadata": {},
   "outputs": [],
   "source": [
    "#data.dropna(axis=0,how='all')\n",
    "#data.dropna(axis=0,how='any')\n",
    "#data.fillna(0)\n",
    "#data.fillna('missing')\n",
    "#data['body'].fillna(0)\n",
    "#data['body']\n",
    "#data['age']\n",
    "#data['age'].fillna(data['age'].mean())\n",
    "#data['age'].fillna(method='ffill')\n",
    "#data['age'].fillna(method='backfill')"
   ]
  },
  {
   "cell_type": "code",
   "execution_count": null,
   "metadata": {},
   "outputs": [],
   "source": [
    "# Dummy Variable\n",
    "\n",
    "dummy_sex=pd.get_dummies(data['sex'], prefix='sex')\n",
    "column_name=data.columns.values.tolist()\n",
    "column_name.remove('sex')\n",
    "data[column_name].join(dummy_sex)"
   ]
  },
  {
   "cell_type": "code",
   "execution_count": null,
   "metadata": {},
   "outputs": [],
   "source": [
    "# Selecting  column(s)\n",
    "import pandas as pd\n",
    "data=pd.read_csv('d:/ext5handling/Customer Churn Model.txt')\n",
    "account_length=data['Account Length']\n",
    "account_length.head()"
   ]
  },
  {
   "cell_type": "code",
   "execution_count": null,
   "metadata": {},
   "outputs": [],
   "source": [
    "subdata=data[['Account Length','VMail Message','Day Calls']]\n",
    "subdata.head()"
   ]
  },
  {
   "cell_type": "code",
   "execution_count": null,
   "metadata": {},
   "outputs": [],
   "source": [
    "# Selecting/Ignoring particular columns\n",
    "wanted_columns=['Account Length','VMail Message','Day Calls']\n",
    "subdata=data[wanted_columns]\n",
    "subdata.head()"
   ]
  },
  {
   "cell_type": "code",
   "execution_count": null,
   "metadata": {},
   "outputs": [],
   "source": [
    "wanted=['Account Length','VMail Message','Day Calls']\n",
    "column_list=data.columns.values.tolist()\n",
    "sublist=[x for x in column_list if x not in wanted]\n",
    "subdata=data[sublist]\n",
    "subdata.head()"
   ]
  },
  {
   "cell_type": "code",
   "execution_count": null,
   "metadata": {},
   "outputs": [],
   "source": [
    "# Selecting rows with row numbers and conditional filters\n",
    "data[1:50]"
   ]
  },
  {
   "cell_type": "code",
   "execution_count": null,
   "metadata": {},
   "outputs": [],
   "source": [
    "data[25:75]"
   ]
  },
  {
   "cell_type": "code",
   "execution_count": null,
   "metadata": {},
   "outputs": [],
   "source": [
    "data[:50] "
   ]
  },
  {
   "cell_type": "code",
   "execution_count": null,
   "metadata": {},
   "outputs": [],
   "source": [
    "data[51:]"
   ]
  },
  {
   "cell_type": "code",
   "execution_count": null,
   "metadata": {},
   "outputs": [],
   "source": [
    "# Creating new columns\n",
    "data['Total Mins']=data['Day Mins']+data['Eve Mins']+data['Night Mins']\n",
    "data['Total Mins'].head()"
   ]
  },
  {
   "cell_type": "code",
   "execution_count": null,
   "metadata": {},
   "outputs": [],
   "source": [
    "data1=data[data['Total Mins']>500]\n",
    "data1.shape"
   ]
  },
  {
   "cell_type": "code",
   "execution_count": null,
   "metadata": {},
   "outputs": [],
   "source": [
    "data1=data[data['State']=='VA']\n",
    "data1.shape"
   ]
  },
  {
   "cell_type": "code",
   "execution_count": null,
   "metadata": {},
   "outputs": [],
   "source": [
    "data1=data[(data['Total Mins']>500) & (data['State']=='VA')]\n",
    "data1.shape"
   ]
  },
  {
   "cell_type": "code",
   "execution_count": null,
   "metadata": {},
   "outputs": [],
   "source": [
    "data1=data[(data['Total Mins']>500) | (data['State']=='VA')]\n",
    "data1.shape"
   ]
  },
  {
   "cell_type": "code",
   "execution_count": null,
   "metadata": {},
   "outputs": [],
   "source": [
    "# Selecting combination of rows and columns\n",
    "subdata_first_50=data[['Account Length','VMail Message','Day Calls']][1:50]\n",
    "subdata_first_50"
   ]
  },
  {
   "cell_type": "code",
   "execution_count": null,
   "metadata": {},
   "outputs": [],
   "source": [
    "data.ix[1:100,1:6]"
   ]
  },
  {
   "cell_type": "code",
   "execution_count": null,
   "metadata": {},
   "outputs": [],
   "source": [
    "data.ix[:,1:6] "
   ]
  },
  {
   "cell_type": "code",
   "execution_count": null,
   "metadata": {},
   "outputs": [],
   "source": [
    "data.ix[1:100,:]"
   ]
  },
  {
   "cell_type": "code",
   "execution_count": null,
   "metadata": {},
   "outputs": [],
   "source": [
    "data.ix[1:100,[2,5,7]]"
   ]
  },
  {
   "cell_type": "code",
   "execution_count": null,
   "metadata": {},
   "outputs": [],
   "source": [
    "data.ix[[1,2,5],[2,5,7]]"
   ]
  },
  {
   "cell_type": "code",
   "execution_count": null,
   "metadata": {},
   "outputs": [],
   "source": [
    "data.ix[[1,2,5],['Area Code','VMail Plan','Day Mins']]"
   ]
  },
  {
   "cell_type": "code",
   "execution_count": null,
   "metadata": {},
   "outputs": [],
   "source": [
    "# Generating a dummy data frame to illustrate groupby method\n",
    "\n",
    "import numpy as np\n",
    "import pandas as pd\n",
    "import random\n",
    "a=['Male','Female']\n",
    "b=['Rich','Poor','Middle Class']\n",
    "gender=[]\n",
    "seb=[]\n",
    "\n",
    "for i in range(1,101):\n",
    "    gender.append(np.random.choice(a))\n",
    "    seb.append(np.random.choice(b))\n",
    "\n",
    "height=30*np.random.randn(100)+155\n",
    "weight=20*np.random.randn(100)+60\n",
    "age=10*np.random.randn(100)+35\n",
    "income=1500*np.random.randn(100)+15000\n",
    "\n",
    "df=pd.DataFrame({'Gender':gender,'Height':height,'Weight':weight,'Age':age,'Income':income,'Socio-Eco':seb})\n",
    "df.head()"
   ]
  },
  {
   "cell_type": "code",
   "execution_count": null,
   "metadata": {},
   "outputs": [],
   "source": [
    "# Print group names and groups\n",
    "\n",
    "grouped=df.groupby('Gender')\n",
    "for names,groups in grouped:\n",
    "    print(names)\n",
    "    print(groups)"
   ]
  },
  {
   "cell_type": "code",
   "execution_count": null,
   "metadata": {},
   "outputs": [],
   "source": [
    "grouped=df.groupby(['Gender','Socio-Eco'])\n",
    "for names,groups in grouped:\n",
    "    print(names)\n",
    "    print(groups)"
   ]
  },
  {
   "cell_type": "code",
   "execution_count": null,
   "metadata": {},
   "outputs": [],
   "source": [
    "# Aggregation\n",
    "\n",
    "grouped=df.groupby(['Gender','Socio-Eco'])\n",
    "grouped.sum()\n",
    "grouped.size()\n",
    "grouped.describe()"
   ]
  },
  {
   "cell_type": "code",
   "execution_count": null,
   "metadata": {},
   "outputs": [],
   "source": [
    "grouped.aggregate({'Income':np.sum,'Age':np.mean,'Height':np.std})\n",
    "grouped.aggregate({'Age':np.mean,'Height':lambda x:np.mean(x)/np.std(x)})\n",
    "grouped.aggregate([np.sum, np.mean, np.std])"
   ]
  },
  {
   "cell_type": "code",
   "execution_count": null,
   "metadata": {},
   "outputs": [],
   "source": [
    "# Filtering\n",
    "\n",
    "grouped['Age'].filter(lambda x:x.sum()>700)"
   ]
  },
  {
   "cell_type": "code",
   "execution_count": null,
   "metadata": {},
   "outputs": [],
   "source": [
    "# Transformation\n",
    "\n",
    "zscore = lambda x: (x - x.mean()) / x.std()\n",
    "grouped.transform(zscore)"
   ]
  },
  {
   "cell_type": "code",
   "execution_count": null,
   "metadata": {},
   "outputs": [],
   "source": [
    "f = lambda x: x.fillna(x.mean())\n",
    "grouped.transform(f)"
   ]
  },
  {
   "cell_type": "code",
   "execution_count": null,
   "metadata": {},
   "outputs": [],
   "source": [
    "# Concatenating Datasets\n",
    "\n",
    "import pandas as pd\n",
    "data1=pd.read_csv('d:/ext5handling/winequality-red.csv',sep=';')\n",
    "data1.head()"
   ]
  },
  {
   "cell_type": "code",
   "execution_count": null,
   "metadata": {},
   "outputs": [],
   "source": [
    "data2=pd.read_csv('d:/ext5handling/winequality-white.csv',sep=';')\n",
    "data2.head()"
   ]
  },
  {
   "cell_type": "code",
   "execution_count": null,
   "metadata": {},
   "outputs": [],
   "source": [
    "wine_total=pd.concat([data1,data2],axis=0)\n",
    "wine_total.head"
   ]
  },
  {
   "cell_type": "code",
   "execution_count": null,
   "metadata": {},
   "outputs": [],
   "source": [
    "filepath='d:/ext5handling'\n",
    "data_final=pd.read_csv('d:/ext5handling/001.csv')\n",
    "data_final_size=len(data_final)\n",
    "for i in range(1,333):\n",
    "    if i<10:\n",
    "        filename='0'+'0'+str(i)+'.csv'\n",
    "    if 10<=i<100:\n",
    "        filename='0'+str(i)+'.csv'\n",
    "    if i>=100:\n",
    "        filename=str(i)+'.csv'\n",
    "    file=filepath+'/'+filename\n",
    "    data=pd.read_csv(file)\n",
    "    data_final_size+=len(data)\n",
    "    data_final=pd.concat([data_final,data],axis=0)\n",
    "                       \n",
    "data_final.tail()\n",
    "print(data_final_size)"
   ]
  },
  {
   "cell_type": "code",
   "execution_count": null,
   "metadata": {},
   "outputs": [],
   "source": [
    "# Merging/Joining Datasets\n",
    "\n",
    "import pandas as pd\n",
    "data_main=pd.read_csv('d:/ext5handling/Medals.csv')\n",
    "data_main.head()"
   ]
  },
  {
   "cell_type": "code",
   "execution_count": null,
   "metadata": {},
   "outputs": [],
   "source": [
    "a=data_main['Athlete'].unique().tolist()\n",
    "len(a)"
   ]
  },
  {
   "cell_type": "code",
   "execution_count": null,
   "metadata": {},
   "outputs": [],
   "source": [
    "country_map=pd.read_csv('d:/ext5handling/Athelete_Country_Map.csv')\n",
    "country_map.head()"
   ]
  },
  {
   "cell_type": "code",
   "execution_count": null,
   "metadata": {},
   "outputs": [],
   "source": [
    "sports_map=pd.read_csv('d:/ext5handling/Athelete_Sports_Map.csv')\n",
    "sports_map.head()"
   ]
  },
  {
   "cell_type": "code",
   "execution_count": null,
   "metadata": {},
   "outputs": [],
   "source": [
    "sports_map[(sports_map['Athlete']=='Chen Jing') | (sports_map['Athlete']=='Richard Thompson') | (sports_map['Athlete']=='Matt Ryan')]"
   ]
  },
  {
   "cell_type": "code",
   "execution_count": null,
   "metadata": {},
   "outputs": [],
   "source": [
    "merged=pd.merge(left=data_main,right=country_map,left_on='Athlete',right_on='Athlete')\n",
    "merged.head()"
   ]
  },
  {
   "cell_type": "code",
   "execution_count": null,
   "metadata": {},
   "outputs": [],
   "source": [
    "country_map_dp=country_map.drop_duplicates(subset='Athlete')"
   ]
  },
  {
   "cell_type": "code",
   "execution_count": null,
   "metadata": {},
   "outputs": [],
   "source": [
    "merged_dp=pd.merge(left=data_main,right=country_map_dp,left_on='Athlete',right_on='Athlete')\n",
    "len(merged_dp)"
   ]
  },
  {
   "cell_type": "code",
   "execution_count": null,
   "metadata": {},
   "outputs": [],
   "source": [
    "sports_map_dp=sports_map.drop_duplicates(subset='Athlete')\n",
    "len(sports_map_dp)"
   ]
  },
  {
   "cell_type": "code",
   "execution_count": null,
   "metadata": {},
   "outputs": [],
   "source": [
    "merged_final=pd.merge(left=merged_dp,right=sports_map_dp,left_on='Athlete',right_on='Athlete')\n",
    "merged_final.head()"
   ]
  },
  {
   "cell_type": "code",
   "execution_count": null,
   "metadata": {},
   "outputs": [],
   "source": []
  }
 ],
 "metadata": {
  "kernelspec": {
   "display_name": "Python 3",
   "language": "python",
   "name": "python3"
  },
  "language_info": {
   "codemirror_mode": {
    "name": "ipython",
    "version": 3
   },
   "file_extension": ".py",
   "mimetype": "text/x-python",
   "name": "python",
   "nbconvert_exporter": "python",
   "pygments_lexer": "ipython3",
   "version": "3.6.2"
  }
 },
 "nbformat": 4,
 "nbformat_minor": 2
}
